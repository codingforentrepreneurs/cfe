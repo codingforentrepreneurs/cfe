{
 "cells": [
  {
   "cell_type": "code",
   "execution_count": null,
   "metadata": {},
   "outputs": [],
   "source": [
    "# default_exp cli"
   ]
  },
  {
   "cell_type": "markdown",
   "metadata": {},
   "source": [
    "# CFE Command Line Interface\n",
    "\n",
    "A set of tools to help build projects faster."
   ]
  },
  {
   "cell_type": "code",
   "execution_count": null,
   "metadata": {},
   "outputs": [],
   "source": [
    "#hide\n",
    "from nbdev.showdoc import *"
   ]
  },
  {
   "cell_type": "code",
   "execution_count": null,
   "metadata": {},
   "outputs": [],
   "source": [
    "#export \n",
    "from cfe.services import linode\n",
    "import fire\n",
    "\n",
    "class Services(object):\n",
    "    \n",
    "    def __init__(self):\n",
    "        self.linode = linode.LinodeAPI\n",
    "        \n",
    "\n",
    "class Pipeline(object):\n",
    "    def __init__(self):\n",
    "        self.services = Services()\n",
    "\n",
    "        \n",
    "def cfe_cli():\n",
    "    fire.Fire(Pipeline)"
   ]
  },
  {
   "cell_type": "code",
   "execution_count": null,
   "metadata": {},
   "outputs": [],
   "source": []
  },
  {
   "cell_type": "code",
   "execution_count": null,
   "metadata": {},
   "outputs": [],
   "source": []
  }
 ],
 "metadata": {
  "kernelspec": {
   "display_name": "Python 3",
   "language": "python",
   "name": "python3"
  }
 },
 "nbformat": 4,
 "nbformat_minor": 2
}
