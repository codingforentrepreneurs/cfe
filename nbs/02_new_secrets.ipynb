{
 "cells": [
  {
   "cell_type": "code",
   "execution_count": null,
   "id": "842477ee",
   "metadata": {},
   "outputs": [],
   "source": [
    "# default_exp tools/security"
   ]
  },
  {
   "cell_type": "code",
   "execution_count": null,
   "id": "7ef74493",
   "metadata": {},
   "outputs": [],
   "source": [
    "#export\n",
    "\n",
    "import secrets\n",
    "\n",
    "def get_new_secret(length:int = 32):\n",
    "    if not isinstance(length, int):\n",
    "        raise Exception(f\"{length} is invalid. Please us a number\")\n",
    "    return secrets.token_urlsafe(length)"
   ]
  },
  {
   "cell_type": "code",
   "execution_count": null,
   "id": "d6e4c94a",
   "metadata": {},
   "outputs": [],
   "source": []
  }
 ],
 "metadata": {
  "kernelspec": {
   "display_name": "Python 3",
   "language": "python",
   "name": "python3"
  }
 },
 "nbformat": 4,
 "nbformat_minor": 5
}
