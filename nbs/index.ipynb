{
 "cells": [
  {
   "cell_type": "code",
   "execution_count": null,
   "metadata": {},
   "outputs": [],
   "source": [
    "#hide\n",
    "from cfe.cli import *"
   ]
  },
  {
   "cell_type": "markdown",
   "metadata": {},
   "source": [
    "# CFE CLI\n",
    "\n",
    "> A command line tool for various CFE-related tutorials and services."
   ]
  },
  {
   "cell_type": "markdown",
   "metadata": {},
   "source": [
    "## Install"
   ]
  },
  {
   "cell_type": "markdown",
   "metadata": {},
   "source": [
    "`pip install cfe`"
   ]
  },
  {
   "cell_type": "markdown",
   "metadata": {},
   "source": [
    "\n",
    "## Services (`cfe services`)\n",
    "\n",
    "```\n",
    "cfe services\n",
    "```\n",
    "This will give you all of the available services.\n",
    "\n",
    "\n",
    "### Linode (`cfe services linode`)\n",
    "\n",
    "\n",
    "#### Instance Inventory  `cfe services linode inventory`\n",
    "\n",
    "This is primarily made for usage with Ansible but it can be useful for many other things too.\n",
    "\n",
    "``\n",
    "export LINODE_ACCESS_TOKEN=your_linode_personal_access_token\n",
    "``\n",
    "> `LINODE_ACCESS_TOKEN` needs to be in environment variables\n",
    "\n",
    "```\n",
    "cfe services linode inventory --save-path \"inventory.ini\" --tags \"webapps\"\n",
    "```\n",
    "or\n",
    "\n",
    "```\n",
    "LINODE_ACCESS_TOKEN=your_linode_personal_access_token cfe services linode inventory\n",
    "```\n",
    "\n",
    "Options:\n",
    "\n",
    "- `--all` Lists all Linode instance IP addresses and groups items by tags\n",
    "- `--save-path` write a path to save a `inventory.ini` file\n",
    "- `--tags` Use a comma separated list of tags you want to include (`--all` will override)"
   ]
  },
  {
   "cell_type": "code",
   "execution_count": null,
   "metadata": {},
   "outputs": [
    {
     "data": {
      "text/plain": [
       "2"
      ]
     },
     "execution_count": null,
     "metadata": {},
     "output_type": "execute_result"
    }
   ],
   "source": []
  },
  {
   "cell_type": "code",
   "execution_count": null,
   "metadata": {},
   "outputs": [],
   "source": []
  }
 ],
 "metadata": {
  "kernelspec": {
   "display_name": "Python 3",
   "language": "python",
   "name": "python3"
  }
 },
 "nbformat": 4,
 "nbformat_minor": 2
}
